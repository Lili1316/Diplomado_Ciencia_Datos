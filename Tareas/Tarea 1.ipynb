{
  "cells": [
    {
      "cell_type": "markdown",
      "metadata": {
        "id": "view-in-github",
        "colab_type": "text"
      },
      "source": [
        "<a href=\"https://colab.research.google.com/github/Lili1316/Diplomado_Ciencia_Datos/blob/main/Tareas/Tarea%201.ipynb\" target=\"_parent\"><img src=\"https://colab.research.google.com/assets/colab-badge.svg\" alt=\"Open In Colab\"/></a>"
      ]
    },
    {
      "cell_type": "markdown",
      "id": "da4f8aae-c034-4853-b21d-470269153e47",
      "metadata": {
        "id": "da4f8aae-c034-4853-b21d-470269153e47"
      },
      "source": [
        "# Ciencia de datos "
      ]
    },
    {
      "cell_type": "markdown",
      "id": "3fc2fb94-7491-44e8-a911-477341baf2fc",
      "metadata": {
        "id": "3fc2fb94-7491-44e8-a911-477341baf2fc"
      },
      "source": [
        "![Logo](https://d1m75rqqgidzqn.cloudfront.net/wp-data/2019/09/11134058/What-is-data-science-2.jpg)"
      ]
    },
    {
      "cell_type": "markdown",
      "id": "ebed1abd-c73f-4d1d-8ebd-f75132c8c321",
      "metadata": {
        "id": "ebed1abd-c73f-4d1d-8ebd-f75132c8c321"
      },
      "source": [
        "La autora de este cuadernillo  es Catalina Lara, tiene 20 años, es estudiante del pregrado en estadística de la Universidad Nacional, actualmente cursa sexto semestre. Su interés en esta área se debe a que pretende encontrar herramientas en la ciencia de datos que ayuden a solucionar problemáticas sociales. "
      ]
    },
    {
      "cell_type": "markdown",
      "id": "7effbce5-6e6b-44ef-9ed6-b2b8fe48c7ce",
      "metadata": {
        "id": "7effbce5-6e6b-44ef-9ed6-b2b8fe48c7ce"
      },
      "source": [
        "![Foto de la autora](https://encrypted-tbn0.gstatic.com/images?q=tbn:ANd9GcSE6JlGUX23JgrGX2b48UTyXUqNP8gOJ9tTw3-gRKsv&s)[Catalina Lara]"
      ]
    },
    {
      "cell_type": "markdown",
      "id": "80681746-c90e-4d22-8e00-28c337b68f0a",
      "metadata": {
        "id": "80681746-c90e-4d22-8e00-28c337b68f0a"
      },
      "source": [
        "A continuación se presentará uno de los conceptos clave en la ciencia de datos:\n",
        "### Machine Learning\n",
        "Es el proceso con el cual una computadora obtiene conocimientos o inteligencia a través de un conjunto de datos, para luego hacer predicciones basadas en su entendimiento.\n",
        "\n",
        "Uno de los teoremas más usados del Machine Learning es \"Naive Bayes\"\n",
        "\n",
        "$$P(a|c)=\\frac{P(c|a)P(a)}{P(c)}$$\n",
        "\n",
        "Este teorema es usado porque puede proporcionar una forma de pensar sobre la evaluación y selección de diferentes modelos para un conjunto de datos dado en el aprendizaje automático aplicado. Maximizar la probabilidad de que un modelo se ajuste a un conjunto de datos se conoce más generalmente como máximo a posteriori, o MAP para abreviar, y proporciona un marco probabilístico para el modelado predictivo. [(Sitio Big Data, 2019)](https://sitiobigdata.com/2019/12/24/teorema-de-bayes-en-machine-learning/#).\n",
        "\n",
        "Un ejemplo cotidiano en el que se usa \"Machine Learning\" es en el reconocimiento de imágenes, donde se aplican diversos algoritmos que estan relacionados con los modelos de Deep Learning para encontrar patrones y poder agruparlos y clasificarlos por zonas.  [(Grapheverywhere, n.a)](https://www.grapheverywhere.com/ejemplos-de-machine-learning/).\n"
      ]
    },
    {
      "cell_type": "markdown",
      "id": "3594d30c-b25c-459b-8972-3517daea9f08",
      "metadata": {
        "id": "3594d30c-b25c-459b-8972-3517daea9f08"
      },
      "source": [
        "### Referencias\n",
        "https://www.grapheverywhere.com/ejemplos-de-machine-learning/. \n",
        "\n",
        "https://sitiobigdata.com/2019/12/24/teorema-de-bayes-en-machine-learning/#.\n"
      ]
    }
  ],
  "metadata": {
    "kernelspec": {
      "display_name": "Python 3",
      "language": "python",
      "name": "python3"
    },
    "language_info": {
      "codemirror_mode": {
        "name": "ipython",
        "version": 3
      },
      "file_extension": ".py",
      "mimetype": "text/x-python",
      "name": "python",
      "nbconvert_exporter": "python",
      "pygments_lexer": "ipython3",
      "version": "3.8.8"
    },
    "colab": {
      "provenance": [],
      "include_colab_link": true
    }
  },
  "nbformat": 4,
  "nbformat_minor": 5
}