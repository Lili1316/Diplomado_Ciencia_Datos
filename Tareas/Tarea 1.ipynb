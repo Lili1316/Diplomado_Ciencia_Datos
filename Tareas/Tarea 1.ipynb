{
  "cells": [
    {
      "cell_type": "markdown",
      "metadata": {
        "id": "view-in-github",
        "colab_type": "text"
      },
      "source": [
        "<a href=\"https://colab.research.google.com/github/Lili1316/Diplomado_Ciencia_Datos/blob/main/Tareas/Tarea%201.ipynb\" target=\"_parent\"><img src=\"https://colab.research.google.com/assets/colab-badge.svg\" alt=\"Open In Colab\"/></a>"
      ]
    },
    {
      "cell_type": "markdown",
      "id": "da4f8aae-c034-4853-b21d-470269153e47",
      "metadata": {
        "id": "da4f8aae-c034-4853-b21d-470269153e47"
      },
      "source": [
        "# Ciencia de datos "
      ]
    },
    {
      "cell_type": "markdown",
      "id": "3fc2fb94-7491-44e8-a911-477341baf2fc",
      "metadata": {
        "id": "3fc2fb94-7491-44e8-a911-477341baf2fc"
      },
      "source": [
        "![Logo](https://d1m75rqqgidzqn.cloudfront.net/wp-data/2019/09/11134058/What-is-data-science-2.jpg)\n"
      ]
    },
    {
      "cell_type": "markdown",
      "id": "ebed1abd-c73f-4d1d-8ebd-f75132c8c321",
      "metadata": {
        "id": "ebed1abd-c73f-4d1d-8ebd-f75132c8c321"
      },
      "source": [
        "La autora de este cuadernillo  es Catalina Lara, tiene 20 años, es estudiante del pregrado en estadística de la Universidad Nacional, actualmente cursa sexto semestre. Su interés en esta área se debe a que pretende encontrar herramientas en la ciencia de datos que ayuden a solucionar problemáticas sociales. "
      ]
    },
    {
      "cell_type": "markdown",
      "id": "7effbce5-6e6b-44ef-9ed6-b2b8fe48c7ce",
      "metadata": {
        "id": "7effbce5-6e6b-44ef-9ed6-b2b8fe48c7ce"
      },
      "source": [
        "![Foto de la autora](https://encrypted-tbn0.gstatic.com/images?q=tbn:ANd9GcSE6JlGUX23JgrGX2b48UTyXUqNP8gOJ9tTw3-gRKsv&s)[Catalina Lara]"
      ]
    },
    {
      "cell_type": "markdown",
      "id": "80681746-c90e-4d22-8e00-28c337b68f0a",
      "metadata": {
        "id": "80681746-c90e-4d22-8e00-28c337b68f0a"
      },
      "source": [
        "A continuación se presentará uno de los conceptos clave en la ciencia de datos:\n",
        "### Machine Learning\n",
        "Es el proceso con el cual una computadora obtiene conocimientos o inteligencia a través de un conjunto de datos, para luego hacer predicciones basadas en su entendimiento.\n",
        "\n",
        "Uno de los teoremas más usados del Machine Learning es \"Naive Bayes\"\n",
        "\n",
        "$$P(a|c)=\\frac{P(c|a)P(a)}{P(c)}$$\n",
        "\n",
        "Este teorema es usado porque puede proporcionar una forma de pensar sobre la evaluación y selección de diferentes modelos para un conjunto de datos dado en el aprendizaje automático aplicado. Maximizar la probabilidad de que un modelo se ajuste a un conjunto de datos se conoce más generalmente como máximo a posteriori, o MAP para abreviar, y proporciona un marco probabilístico para el modelado predictivo. [(Sitio Big Data, 2019)](https://sitiobigdata.com/2019/12/24/teorema-de-bayes-en-machine-learning/#).\n",
        "\n",
        "Un ejemplo cotidiano en el que se usa \"Machine Learning\" es en el reconocimiento de imágenes, donde se aplican diversos algoritmos que estan relacionados con los modelos de Deep Learning para encontrar patrones y poder agruparlos y clasificarlos por zonas.  [(Grapheverywhere, n.a)](https://www.grapheverywhere.com/ejemplos-de-machine-learning/).\n",
        "\n",
        "![Ejemplo](data:image/png;base64,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)"
      ]
    },
    {
      "cell_type": "markdown",
      "id": "3594d30c-b25c-459b-8972-3517daea9f08",
      "metadata": {
        "id": "3594d30c-b25c-459b-8972-3517daea9f08"
      },
      "source": [
        "### Referencias\n",
        "https://www.grapheverywhere.com/ejemplos-de-machine-learning/. \n",
        "\n",
        "https://sitiobigdata.com/2019/12/24/teorema-de-bayes-en-machine-learning/#.\n"
      ]
    }
  ],
  "metadata": {
    "kernelspec": {
      "display_name": "Python 3",
      "language": "python",
      "name": "python3"
    },
    "language_info": {
      "codemirror_mode": {
        "name": "ipython",
        "version": 3
      },
      "file_extension": ".py",
      "mimetype": "text/x-python",
      "name": "python",
      "nbconvert_exporter": "python",
      "pygments_lexer": "ipython3",
      "version": "3.8.8"
    },
    "colab": {
      "provenance": [],
      "include_colab_link": true
    }
  },
  "nbformat": 4,
  "nbformat_minor": 5
}